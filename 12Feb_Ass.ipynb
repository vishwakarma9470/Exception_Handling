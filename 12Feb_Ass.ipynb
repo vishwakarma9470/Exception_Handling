{
  "nbformat": 4,
  "nbformat_minor": 0,
  "metadata": {
    "colab": {
      "provenance": [],
      "authorship_tag": "ABX9TyP3RHhhsz6VW7vMvLddHpi0",
      "include_colab_link": true
    },
    "kernelspec": {
      "name": "python3",
      "display_name": "Python 3"
    },
    "language_info": {
      "name": "python"
    }
  },
  "cells": [
    {
      "cell_type": "markdown",
      "metadata": {
        "id": "view-in-github",
        "colab_type": "text"
      },
      "source": [
        "<a href=\"https://colab.research.google.com/github/vishwakarma9470/Exception_Handling/blob/main/12Feb_Ass.ipynb\" target=\"_parent\"><img src=\"https://colab.research.google.com/assets/colab-badge.svg\" alt=\"Open In Colab\"/></a>"
      ]
    },
    {
      "cell_type": "markdown",
      "source": [
        "Q1. What is an Exception in python? Write the difference between Exceptions\n",
        "and syntax errors."
      ],
      "metadata": {
        "id": "cjkCNNmLDFvr"
      }
    },
    {
      "cell_type": "markdown",
      "source": [
        "Ans - An exception in Python is an event or error that occurs during the execution of a program, which disrupts the normal flow of the program. When an exception occurs, it can be caught, handled, and processed, preventing the program from crashing. Exceptions are used to handle runtime errors or unexpected situations that can occur during program execution.\n",
        "\n",
        "Difference between Exceptions and Syntax Errors:\n",
        "\n",
        "Nature of Error:\n",
        "\n",
        "Exception: Exceptions are runtime errors that occur during the execution of a program. These errors are not known until the program runs and can be caused by various factors, such as user input, file I/O, or mathematical operations.\n",
        "Syntax Errors: Syntax errors, also known as parsing errors, occur during the parsing (compilation) of the code. They are typically caused by incorrect Python syntax, such as missing colons, incorrect indentation, or using undefined variables.\n",
        "\n",
        "Timing of Detection:\n",
        "\n",
        "Exception: Exceptions are detected and raised during program execution when the problematic code is executed. This means they can be handled while the program is running.\n",
        "\n",
        "Syntax Errors: Syntax errors are detected by the Python interpreter before the program begins executing. The program won't run if there are syntax errors, making them a type of compile-time error.\n",
        "\n",
        "Handling:\n",
        "\n",
        "Exception: Exceptions can be caught, handled, and recovered from using try-except blocks or other exception handling mechanisms. This allows the program to continue running even if an exception occurs.\n",
        "\n",
        "Syntax Errors: Syntax errors cannot be caught or handled using try-except blocks because they prevent the program from running in the first place. They must be fixed in the code before execution.\n",
        "Examples:\n",
        "\n",
        "Exception: Examples of exceptions include ZeroDivisionError (division by zero), FileNotFoundError (when trying to open a non-existent file), and ValueError (invalid type conversion).\n",
        "Syntax Errors: Examples of syntax errors include forgetting a colon at the end of an if statement, using a variable before it's defined, or having inconsistent indentation."
      ],
      "metadata": {
        "id": "ZzSNa_8wDl0W"
      }
    },
    {
      "cell_type": "markdown",
      "source": [
        "Q2. What happens when an exception is not handled? Explain\n",
        "in with an example\n",
        "\n",
        "Ans- When an exception is not handled in Python, it leads to program termination, and an error message is displayed to the user. This message provides information about the unhandled exception, including the type of exception, the error message, and the line number in the code where the exception occurred. The program will not continue executing past the point where the unhandled exception was raised. following example below"
      ],
      "metadata": {
        "id": "nx89sPREE0Ho"
      }
    },
    {
      "cell_type": "code",
      "source": [
        "a = 10\n",
        "b = 0\n",
        "try:\n",
        "  result = a/b\n",
        "  print(\"result:\",result)\n",
        "except ZeroDivisionError:\n",
        "  print(\"Error: Division by zero is not allowed. \")"
      ],
      "metadata": {
        "colab": {
          "base_uri": "https://localhost:8080/"
        },
        "id": "91NHiAwcEYiB",
        "outputId": "c5918464-ec39-47fa-faa7-0d55b1e54d90"
      },
      "execution_count": 2,
      "outputs": [
        {
          "output_type": "stream",
          "name": "stdout",
          "text": [
            "Error: Division by zero is not allowed. \n"
          ]
        }
      ]
    },
    {
      "cell_type": "markdown",
      "source": [
        "Q3. which python statements are used to catch and handle exceptions? Explain with an example.\n",
        "\n",
        "Ans- In Python, you can catch and handle exceptions using try and except statements. Here's how they work:\n",
        "\n",
        "try Statement: The try statement is used to enclose the code that may raise an exception. It allows you to define a block of code in which you want to catch and handle exceptions.\n",
        "\n",
        "except Statement: The except statement is used to specify how to handle a particular exception. It follows the try block and contains code that is executed when a specific exception is raised in the try block.\n",
        "\n",
        "following example:\n"
      ],
      "metadata": {
        "id": "kyH0oh0YGgWN"
      }
    },
    {
      "cell_type": "code",
      "source": [
        "# example  Catching and handling a ZeroDivisionError\n",
        "try:\n",
        "  num = 20\n",
        "  den = 0\n",
        "  result = num/den\n",
        "except ZeroDivisionError:\n",
        "  print(\"Error: Division by zero is not allowed\")\n",
        "else:\n",
        "  print(\"result:\",result)"
      ],
      "metadata": {
        "colab": {
          "base_uri": "https://localhost:8080/"
        },
        "id": "8Nf5DWWUGd78",
        "outputId": "6c4ca811-e7be-41ec-aa0a-8ea7c869291e"
      },
      "execution_count": 4,
      "outputs": [
        {
          "output_type": "stream",
          "name": "stdout",
          "text": [
            "Error: Division by zero is not allowed\n"
          ]
        }
      ]
    },
    {
      "cell_type": "markdown",
      "source": [
        "Q4. explain with an example:\n",
        "a. try and else\n",
        "b. finally\n",
        "c. raise\n",
        "\n",
        "Ans: a. try and else:\n",
        "\n",
        "The try block is used to enclose code that may raise an exception.\n",
        "The else block is used to define code that should run if no exceptions occur in the try block.\n",
        "\n",
        "for example:"
      ],
      "metadata": {
        "id": "a4ybrfKNID4V"
      }
    },
    {
      "cell_type": "code",
      "source": [
        "try:\n",
        "  num1 = 10\n",
        "  num2 = 5\n",
        "  result = num1/num2\n",
        "except ZeroDivisionError:\n",
        "  print(\"Error: Division by zero is not allowed\")\n",
        "else:\n",
        "  print(\"Result:\",result)"
      ],
      "metadata": {
        "colab": {
          "base_uri": "https://localhost:8080/"
        },
        "id": "UkWkwqenHKba",
        "outputId": "bcc0b348-d581-4569-d2a0-b5ed5d3d0968"
      },
      "execution_count": 5,
      "outputs": [
        {
          "output_type": "stream",
          "name": "stdout",
          "text": [
            "Result: 2.0\n"
          ]
        }
      ]
    },
    {
      "cell_type": "markdown",
      "source": [
        "b. finally\n",
        "\n",
        "The finally block is used to define code that should always run, whether an exception occurred or not. It is often used for cleanup operations.\n",
        "\n",
        "for example:"
      ],
      "metadata": {
        "id": "DKHckCZxJKRC"
      }
    },
    {
      "cell_type": "code",
      "source": [
        "try :\n",
        "  f = open(\"test2.txt\",'w')\n",
        "  f.write(\"man is very intlligent\")\n",
        "finally:\n",
        "  print(\"finally will excuted itself in any situation\")"
      ],
      "metadata": {
        "colab": {
          "base_uri": "https://localhost:8080/"
        },
        "id": "29VjSjuoJICi",
        "outputId": "4d74c1f7-2bb0-4b64-af44-e1e3843c8a2e"
      },
      "execution_count": 12,
      "outputs": [
        {
          "output_type": "stream",
          "name": "stdout",
          "text": [
            "finally will excuted itself in any situation\n"
          ]
        }
      ]
    },
    {
      "cell_type": "markdown",
      "source": [
        "c. raise:\n",
        "\n",
        "The raise statement is used to explicitly raise an exception. You can raise built-in exceptions or create custom exceptions.\n",
        "\n",
        "for example:\n"
      ],
      "metadata": {
        "id": "eaId0-z5PIX_"
      }
    },
    {
      "cell_type": "code",
      "source": [
        "def divide(a, b):\n",
        "  if b==0:\n",
        "    raise ZeroDivisionError(\"Division by zero is not allowed \")\n",
        "  return a/b\n",
        "try:\n",
        "  result = divide(10, 0)\n",
        "except ZeroDivisionError as e:\n",
        "  print(f\"Caught an exception : {e}\")"
      ],
      "metadata": {
        "colab": {
          "base_uri": "https://localhost:8080/"
        },
        "id": "bWwW6q_dO44k",
        "outputId": "e3b43eb9-d275-454a-d065-a45ad6ba4157"
      },
      "execution_count": 8,
      "outputs": [
        {
          "output_type": "stream",
          "name": "stdout",
          "text": [
            "Caught an exception : Division by zero is not allowed \n"
          ]
        }
      ]
    },
    {
      "cell_type": "markdown",
      "source": [
        "Q5. what are custon exception in python? why do we need custom exception? explain with an example.\n",
        "\n",
        "Ans- Custom exceptions, also known as user-defined exceptions, are exceptions that you create in Python to handle specific error scenarios that are not adequately covered by the built-in exceptions. You define custom exceptions by creating new classes that inherit from the base Exception class or any other exception class that's appropriate for your use case. Custom exceptions are useful because they allow you to add more context and meaning to your error handling, making it easier to understand and manage errors in your code.\n",
        "\n",
        "Here's why you might need custom exceptions:\n",
        "\n",
        "Semantic Clarity: Custom exceptions provide more semantic clarity about the error being raised. Instead of relying on generic exceptions like ValueError or Exception, you can create exceptions with names that reflect the specific error situation.\n",
        "\n",
        "Modularity: Custom exceptions make your code more modular. You can encapsulate error-handling logic for a specific part of your code in one place by creating custom exceptions, which makes your code easier to maintain.\n",
        "\n",
        "Error Categorization: You can categorize different types of errors by creating custom exceptions for each category. This allows you to handle errors differently based on the context.\n",
        "\n",
        "User-Friendly Errors: Custom exceptions can provide more user-friendly error messages or detailed error information, which can be helpful in debugging and reporting issues.\n",
        "\n",
        "for example:"
      ],
      "metadata": {
        "id": "Q94srzLpRc7t"
      }
    },
    {
      "cell_type": "code",
      "source": [
        "# for example custom exception in python programming\n",
        "class validteage(Exception):\n",
        "\n",
        "  def __init__(self, msg):\n",
        "    self.msg = msg\n",
        "def validateage(age):\n",
        "  if age < 0:\n",
        "    raise validateage(\"entered age is negative \")\n",
        "  elif age>200:\n",
        "    raise validateage(\"entered age is very very high \")\n",
        "  else:\n",
        "    print(\"age is valid\")\n",
        "try :\n",
        "  age = int(input(\"enter your age \"))\n",
        "  validateage(age)\n",
        "except validteage as e:\n",
        "  print(e)"
      ],
      "metadata": {
        "colab": {
          "base_uri": "https://localhost:8080/"
        },
        "id": "PeQUZhpnQV3b",
        "outputId": "af70f777-575f-42e5-df8f-71c8609bdfc1"
      },
      "execution_count": 14,
      "outputs": [
        {
          "output_type": "stream",
          "name": "stdout",
          "text": [
            "enter your age 4\n",
            "age is valid\n"
          ]
        }
      ]
    },
    {
      "cell_type": "markdown",
      "source": [
        "Q6. create a custom exception class. use this class to handle an exception.\n",
        "\n",
        "Ans:"
      ],
      "metadata": {
        "id": "NKRt-72WbbSx"
      }
    },
    {
      "cell_type": "code",
      "source": [
        "class MyCustomException(Exception):\n",
        "    def __init__(self, message):\n",
        "        super().__init__(message)\n",
        "\n",
        "def divide(a, b):\n",
        "    if b == 0:\n",
        "        raise MyCustomException(\"Division by zero is not allowed.\")\n",
        "    return a / b\n",
        "\n",
        "try:\n",
        "    result = divide(10, 0)\n",
        "except MyCustomException as e:\n",
        "    print(f\"Caught an exception: {e}\")\n"
      ],
      "metadata": {
        "colab": {
          "base_uri": "https://localhost:8080/"
        },
        "id": "fZYTCbRIdAdp",
        "outputId": "8b98eb0c-fecf-4c8b-bda3-311c1bdcf31f"
      },
      "execution_count": 20,
      "outputs": [
        {
          "output_type": "stream",
          "name": "stdout",
          "text": [
            "Caught an exception: Division by zero is not allowed.\n"
          ]
        }
      ]
    },
    {
      "cell_type": "code",
      "source": [],
      "metadata": {
        "id": "-_VqaWK1fWiK"
      },
      "execution_count": null,
      "outputs": []
    }
  ]
}