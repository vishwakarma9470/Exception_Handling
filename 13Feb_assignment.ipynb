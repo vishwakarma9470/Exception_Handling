{
 "cells": [
  {
   "cell_type": "markdown",
   "id": "6c0b7ffd-7567-46d7-b5c7-ad2cb6aad318",
   "metadata": {},
   "source": [
    "Q1. Explain why we have to use the Exception class while creating a Custom Exception."
   ]
  },
  {
   "cell_type": "markdown",
   "id": "9bef0924-f5b2-4217-866b-f81373235c47",
   "metadata": {},
   "source": [
    "Note: Here Exception class refers to the base class for all the exceptions.\n",
    "In object-oriented programming, including in languages like Python, custom exceptions can be created by defining new classes that inherit from the base Exception class. The Exception class serves as the parent class or base class for all built-in exceptions in the language, and it provides a standard structure and behavior for handling and propagating exceptions.\n",
    "There are a few reasons why we use the Exception class as the base class for custom exceptions:\n",
    "1. Consistency and familiarity: By inheriting from the Exception class, custom exceptions follow the same structure and behavior as built-in exceptions in the language. This consistency makes it easier for developers to understand and work with custom exceptions, as they can leverage their existing knowledge and experience with handling exceptions.\n",
    "2. Standard exception handling: The Exception class provides a set of methods and attributes that are commonly used for exception handling. For example, custom exceptions can utilize the try-except block to catch and handle specific exceptions, and they can access attributes like the error message associated with the exception. By inheriting from the Exception class, custom exceptions automatically inherit these features, making it simpler to handle and process them consistently.\n",
    "3. Exception hierarchy and organization: The Exception class establishes a hierarchy of exceptions, with more specific exceptions inheriting from more general ones. This hierarchy allows for better organization and categorization of exceptions based on their types and behaviors. By creating custom exceptions that inherit from the Exception class, we can place them in the appropriate part of the exception hierarchy, making it easier to identify and handle different types of exceptions based on their relationships.\n",
    "4. Interoperability and compatibility: By using the Exception class as the base class for custom exceptions, we ensure compatibility and interoperability with other code and libraries that expect exceptions to follow the standard exception hierarchy. This allows custom exceptions to be seamlessly integrated into existing exception handling mechanisms and frameworks.\n",
    "By using the Exception class as the base class for custom exceptions provides consistency, standard exception handling mechanisms, a hierarchical organization of exceptions, and compatibility with existing code. It promotes good software design and facilitates effective exception handling in the language."
   ]
  },
  {
   "cell_type": "markdown",
   "id": "0d0cbc99-f5f6-4e2e-96bb-900eccfe1f0d",
   "metadata": {},
   "source": [
    "Q2. Write a python program to print Python Exception Hierarchy."
   ]
  },
  {
   "cell_type": "code",
   "execution_count": 1,
   "id": "4edbc1a0-e43c-4406-ada2-ad3a0b363b64",
   "metadata": {},
   "outputs": [
    {
     "name": "stdout",
     "output_type": "stream",
     "text": [
      "Hierarchy for Built-in exceptions is : \n",
      " BaseException\n",
      "--- BaseExceptionGroup\n",
      "------ ExceptionGroup\n",
      "--- Exception\n",
      "------ ArithmeticError\n",
      "--------- FloatingPointError\n",
      "--------- OverflowError\n",
      "--------- ZeroDivisionError\n",
      "------------ DivisionByZero\n",
      "------------ DivisionUndefined\n",
      "--------- DecimalException\n",
      "------------ Clamped\n",
      "------------ Rounded\n",
      "--------------- Underflow\n",
      "--------------- Overflow\n",
      "------------ Inexact\n",
      "--------------- Underflow\n",
      "--------------- Overflow\n",
      "------------ Subnormal\n",
      "--------------- Underflow\n",
      "------------ DivisionByZero\n",
      "------------ FloatOperation\n",
      "------------ InvalidOperation\n",
      "--------------- ConversionSyntax\n",
      "--------------- DivisionImpossible\n",
      "--------------- DivisionUndefined\n",
      "--------------- InvalidContext\n",
      "------ AssertionError\n",
      "------ AttributeError\n",
      "--------- FrozenInstanceError\n",
      "------ BufferError\n",
      "------ EOFError\n",
      "--------- IncompleteReadError\n",
      "------ ImportError\n",
      "--------- ModuleNotFoundError\n",
      "------------ PackageNotFoundError\n",
      "--------- ZipImportError\n",
      "------ LookupError\n",
      "--------- IndexError\n",
      "--------- KeyError\n",
      "------------ NoSuchKernel\n",
      "------------ UnknownBackend\n",
      "--------- CodecRegistryError\n",
      "------ MemoryError\n",
      "------ NameError\n",
      "--------- UnboundLocalError\n",
      "------ OSError\n",
      "--------- BlockingIOError\n",
      "--------- ChildProcessError\n",
      "--------- ConnectionError\n",
      "------------ BrokenPipeError\n",
      "------------ ConnectionAbortedError\n",
      "------------ ConnectionRefusedError\n",
      "------------ ConnectionResetError\n",
      "--------------- RemoteDisconnected\n",
      "--------- FileExistsError\n",
      "--------- FileNotFoundError\n",
      "--------- InterruptedError\n",
      "------------ InterruptedSystemCall\n",
      "--------- IsADirectoryError\n",
      "--------- NotADirectoryError\n",
      "--------- PermissionError\n",
      "--------- ProcessLookupError\n",
      "--------- TimeoutError\n",
      "--------- UnsupportedOperation\n",
      "--------- herror\n",
      "--------- gaierror\n",
      "--------- SSLError\n",
      "------------ SSLCertVerificationError\n",
      "------------ SSLZeroReturnError\n",
      "------------ SSLWantWriteError\n",
      "------------ SSLWantReadError\n",
      "------------ SSLSyscallError\n",
      "------------ SSLEOFError\n",
      "--------- Error\n",
      "------------ SameFileError\n",
      "--------- SpecialFileError\n",
      "--------- ExecError\n",
      "--------- ReadError\n",
      "--------- URLError\n",
      "------------ HTTPError\n",
      "------------ ContentTooShortError\n",
      "--------- BadGzipFile\n",
      "------ ReferenceError\n",
      "------ RuntimeError\n",
      "--------- NotImplementedError\n",
      "------------ ZMQVersionError\n",
      "------------ StdinNotImplementedError\n",
      "--------- RecursionError\n",
      "--------- _DeadlockError\n",
      "--------- BrokenBarrierError\n",
      "--------- BrokenExecutor\n",
      "------------ BrokenThreadPool\n",
      "--------- SendfileNotAvailableError\n",
      "--------- BrokenBarrierError\n",
      "--------- ExtractionError\n",
      "--------- VariableError\n",
      "------ StopAsyncIteration\n",
      "------ StopIteration\n",
      "------ SyntaxError\n",
      "--------- IndentationError\n",
      "------------ TabError\n",
      "------ SystemError\n",
      "--------- CodecRegistryError\n",
      "------ TypeError\n",
      "--------- FloatOperation\n",
      "--------- MultipartConversionError\n",
      "------ ValueError\n",
      "--------- UnicodeError\n",
      "------------ UnicodeDecodeError\n",
      "------------ UnicodeEncodeError\n",
      "------------ UnicodeTranslateError\n",
      "--------- UnsupportedOperation\n",
      "--------- JSONDecodeError\n",
      "--------- SSLCertVerificationError\n",
      "--------- Error\n",
      "--------- AddressValueError\n",
      "--------- NetmaskValueError\n",
      "--------- UnsupportedDigestmodError\n",
      "--------- IllegalMonthError\n",
      "--------- IllegalWeekdayError\n",
      "--------- ParserError\n",
      "--------- MessageDefect\n",
      "------------ NoBoundaryInMultipartDefect\n",
      "------------ StartBoundaryNotFoundDefect\n",
      "------------ CloseBoundaryNotFoundDefect\n",
      "------------ FirstHeaderLineIsContinuationDefect\n",
      "------------ MisplacedEnvelopeHeaderDefect\n",
      "------------ MissingHeaderBodySeparatorDefect\n",
      "------------ MultipartInvariantViolationDefect\n",
      "------------ InvalidMultipartContentTransferEncodingDefect\n",
      "------------ UndecodableBytesDefect\n",
      "------------ InvalidBase64PaddingDefect\n",
      "------------ InvalidBase64CharactersDefect\n",
      "------------ InvalidBase64LengthDefect\n",
      "------------ HeaderDefect\n",
      "--------------- InvalidHeaderDefect\n",
      "--------------- HeaderMissingRequiredValue\n",
      "--------------- NonPrintableDefect\n",
      "--------------- ObsoleteHeaderDefect\n",
      "--------------- NonASCIILocalPartDefect\n",
      "--------------- InvalidDateDefect\n",
      "--------- ClassNotFound\n",
      "--------- ClipboardEmpty\n",
      "--------- MacroToEdit\n",
      "--------- InvalidFileException\n",
      "--------- UnequalIterablesError\n",
      "--------- InvalidVersion\n",
      "--------- ELFInvalid\n",
      "--------- InvalidWheelFilename\n",
      "--------- InvalidSdistFilename\n",
      "--------- InvalidSpecifier\n",
      "--------- InvalidMarker\n",
      "--------- UndefinedComparison\n",
      "--------- UndefinedEnvironmentName\n",
      "--------- InvalidRequirement\n",
      "------------ RequirementParseError\n",
      "--------- InvalidVersion\n",
      "------ Warning\n",
      "--------- BytesWarning\n",
      "--------- DeprecationWarning\n",
      "------------ ProvisionalWarning\n",
      "--------- EncodingWarning\n",
      "--------- FutureWarning\n",
      "------------ ProvisionalCompleterWarning\n",
      "--------- ImportWarning\n",
      "--------- PendingDeprecationWarning\n",
      "--------- ResourceWarning\n",
      "--------- RuntimeWarning\n",
      "------------ ProactorSelectorThreadWarning\n",
      "------------ UnknownTimezoneWarning\n",
      "------------ PEP440Warning\n",
      "--------- SyntaxWarning\n",
      "--------- UnicodeWarning\n",
      "--------- UserWarning\n",
      "------------ GetPassWarning\n",
      "------------ FormatterWarning\n",
      "--------- DeprecatedTzFormatWarning\n",
      "--------- PkgResourcesDeprecationWarning\n",
      "------ ExceptionGroup\n",
      "------ _OptionError\n",
      "------ _Error\n",
      "------ error\n",
      "------ Error\n",
      "------ SubprocessError\n",
      "--------- CalledProcessError\n",
      "--------- TimeoutExpired\n",
      "------ ZMQBaseError\n",
      "--------- ZMQError\n",
      "------------ ContextTerminated\n",
      "------------ Again\n",
      "------------ InterruptedSystemCall\n",
      "--------- ZMQBindError\n",
      "--------- NotDone\n",
      "------ Error\n",
      "------ error\n",
      "------ PickleError\n",
      "--------- PicklingError\n",
      "--------- UnpicklingError\n",
      "------ _Stop\n",
      "------ TokenError\n",
      "------ StopTokenizing\n",
      "------ Error\n",
      "--------- CancelledError\n",
      "--------- InvalidStateError\n",
      "------ _GiveupOnSendfile\n",
      "------ Incomplete\n",
      "------ ClassFoundException\n",
      "------ EndOfBlock\n",
      "------ InvalidStateError\n",
      "------ LimitOverrunError\n",
      "------ QueueEmpty\n",
      "------ QueueFull\n",
      "------ error\n",
      "------ LZMAError\n",
      "------ RegistryError\n",
      "------ _GiveupOnFastCopy\n",
      "------ TraitError\n",
      "------ Empty\n",
      "------ Full\n",
      "------ ArgumentError\n",
      "------ COMError\n",
      "------ ReturnValueIgnoredError\n",
      "------ ArgumentError\n",
      "------ ArgumentTypeError\n",
      "------ ConfigError\n",
      "--------- ConfigLoaderError\n",
      "------------ ArgumentError\n",
      "--------- ConfigFileNotFound\n",
      "------ ConfigurableError\n",
      "--------- MultipleInstanceError\n",
      "------ ApplicationError\n",
      "------ InvalidPortNumber\n",
      "------ NoIPAddresses\n",
      "------ Error\n",
      "------ BadZipFile\n",
      "------ LargeZipFile\n",
      "------ MessageError\n",
      "--------- MessageParseError\n",
      "------------ HeaderParseError\n",
      "------------ BoundaryError\n",
      "--------- MultipartConversionError\n",
      "--------- CharsetError\n",
      "------ DuplicateKernelError\n",
      "------ ErrorDuringImport\n",
      "------ NotOneValueFound\n",
      "------ CannotEval\n",
      "------ OptionError\n",
      "------ BdbQuit\n",
      "------ Restart\n",
      "------ FindCmdError\n",
      "------ HomeDirError\n",
      "------ ProfileDirError\n",
      "------ IPythonCoreError\n",
      "--------- TryNext\n",
      "--------- UsageError\n",
      "--------- StdinNotImplementedError\n",
      "------ InputRejected\n",
      "------ GetoptError\n",
      "------ ErrorToken\n",
      "------ PrefilterError\n",
      "------ AliasError\n",
      "--------- InvalidAliasError\n",
      "------ Error\n",
      "--------- InterfaceError\n",
      "--------- DatabaseError\n",
      "------------ InternalError\n",
      "------------ OperationalError\n",
      "------------ ProgrammingError\n",
      "------------ IntegrityError\n",
      "------------ DataError\n",
      "------------ NotSupportedError\n",
      "------ Warning\n",
      "------ SpaceInInput\n",
      "------ DOMException\n",
      "--------- IndexSizeErr\n",
      "--------- DomstringSizeErr\n",
      "--------- HierarchyRequestErr\n",
      "--------- WrongDocumentErr\n",
      "--------- InvalidCharacterErr\n",
      "--------- NoDataAllowedErr\n",
      "--------- NoModificationAllowedErr\n",
      "--------- NotFoundErr\n",
      "--------- NotSupportedErr\n",
      "--------- InuseAttributeErr\n",
      "--------- InvalidStateErr\n",
      "--------- SyntaxErr\n",
      "--------- InvalidModificationErr\n",
      "--------- NamespaceErr\n",
      "--------- InvalidAccessErr\n",
      "--------- ValidationErr\n",
      "------ ValidationError\n",
      "------ EditReadOnlyBuffer\n",
      "------ _Retry\n",
      "------ InvalidLayoutError\n",
      "------ HeightIsUnknownError\n",
      "------ GuardRejection\n",
      "------ ParserSyntaxError\n",
      "------ InternalParseError\n",
      "------ _PositionUpdatingFinished\n",
      "------ SimpleGetItemNotFound\n",
      "------ UncaughtAttributeError\n",
      "------ HasNoContext\n",
      "------ ParamIssue\n",
      "------ _JediError\n",
      "--------- InternalError\n",
      "--------- WrongVersion\n",
      "--------- RefactoringError\n",
      "------ OnErrorLeaf\n",
      "------ InvalidPythonEnvironment\n",
      "------ HTTPException\n",
      "--------- NotConnected\n",
      "--------- InvalidURL\n",
      "--------- UnknownProtocol\n",
      "--------- UnknownTransferEncoding\n",
      "--------- UnimplementedFileMode\n",
      "--------- IncompleteRead\n",
      "--------- ImproperConnectionState\n",
      "------------ CannotSendRequest\n",
      "------------ CannotSendHeader\n",
      "------------ ResponseNotReady\n",
      "--------- BadStatusLine\n",
      "------------ RemoteDisconnected\n",
      "--------- LineTooLong\n",
      "------ InteractivelyDefined\n",
      "------ KillEmbedded\n",
      "------ Error\n",
      "--------- NoSuchProcess\n",
      "------------ ZombieProcess\n",
      "--------- AccessDenied\n",
      "--------- TimeoutExpired\n",
      "------ Error\n",
      "------ TimeoutExpired\n",
      "------ TimeoutAbandoned\n",
      "------ KeyReuseError\n",
      "------ UnknownKeyError\n",
      "------ LeakedCallbackError\n",
      "------ BadYieldError\n",
      "------ ReturnValueIgnoredError\n",
      "------ Return\n",
      "------ QueueEmpty\n",
      "------ QueueFull\n",
      "------ DebuggerInitializationError\n",
      "------ ExpatError\n",
      "------ Error\n",
      "--------- ProtocolError\n",
      "--------- ResponseError\n",
      "--------- Fault\n",
      "------ ParserSyntaxError\n",
      "------ ResolutionError\n",
      "--------- VersionConflict\n",
      "------------ ContextualVersionConflict\n",
      "--------- DistributionNotFound\n",
      "--------- UnknownExtra\n",
      "------ _Error\n",
      "------ UnableToResolveVariableException\n",
      "------ InvalidTypeInArgsException\n",
      "--- GeneratorExit\n",
      "--- KeyboardInterrupt\n",
      "--- SystemExit\n",
      "--- CancelledError\n",
      "--- AbortThread\n"
     ]
    }
   ],
   "source": [
    "# import inspect module\n",
    "import inspect\n",
    "\n",
    "# our treeClass function\n",
    "def treeClass(cls, ind = 0):\n",
    "\t\n",
    "\t# print name of the class\n",
    "\tprint ('-' * ind, cls.__name__)\n",
    "\t\n",
    "\t# iterating through subclasses\n",
    "\tfor i in cls.__subclasses__():\n",
    "\t\ttreeClass(i, ind + 3)\n",
    "\n",
    "print(\"Hierarchy for Built-in exceptions is : \")\n",
    "\n",
    "# inspect.getmro() Return a tuple\n",
    "# of class cls’s base classes.\n",
    "\n",
    "# building a tree hierarchy\n",
    "inspect.getclasstree(inspect.getmro(BaseException))\n",
    "\n",
    "# function call\n",
    "treeClass(BaseException)"
   ]
  },
  {
   "cell_type": "markdown",
   "id": "cc882cfc-00e7-42a6-b624-cb7e8f0d5835",
   "metadata": {},
   "source": [
    "Q3. What errors are defined in the ArithmeticError class? Explain any two with an example."
   ]
  },
  {
   "cell_type": "markdown",
   "id": "f4b3acf0-c5ff-4908-bf41-b0cbf0f5bdc5",
   "metadata": {},
   "source": [
    " Arithmetic Error is the error that occurs during numeric calculations\r",
    " \n",
    "OverFlowError \r\n",
    "ZeroDivisionErro r\r\n",
    "FloatingPointError"
   ]
  },
  {
   "cell_type": "code",
   "execution_count": 2,
   "id": "8f2ca2ec-11c2-4565-898f-e407021955ab",
   "metadata": {},
   "outputs": [
    {
     "name": "stdout",
     "output_type": "stream",
     "text": [
      "(34, 'Result too large'), <class 'OverflowError'>\n"
     ]
    }
   ],
   "source": [
    "#OverFlowError\n",
    "j = 5.0\n",
    "\n",
    "try:\n",
    "    for i in range(1, 1000):\n",
    "        j = j**i\n",
    "except ArithmeticError as e:\n",
    "    print(f\"{e}, {e.__class__}\")"
   ]
  },
  {
   "cell_type": "code",
   "execution_count": 3,
   "id": "a1ba4421-f119-451f-8725-34f3e9dbd81f",
   "metadata": {},
   "outputs": [
    {
     "name": "stdout",
     "output_type": "stream",
     "text": [
      "division by zero, <class 'ZeroDivisionError'>\n"
     ]
    }
   ],
   "source": [
    "#ZeroDivisionError\n",
    "try:\n",
    "    1/0\n",
    "except ArithmeticError as e:\n",
    "    print(f\"{e}, {e.__class__}\")"
   ]
  },
  {
   "cell_type": "markdown",
   "id": "554ff150-bc43-4e0b-93f1-6605d08243e4",
   "metadata": {},
   "source": [
    "Q4. Why LookupError class is used? Explain with an example KeyError and IndexError."
   ]
  },
  {
   "cell_type": "markdown",
   "id": "9eab1c2b-3879-4d90-bbac-60d49ae06e28",
   "metadata": {},
   "source": [
    "The LookupError exception forms the base class for all the exceptions that are raised when an index or a key is not found for a sequence or dictionary."
   ]
  },
  {
   "cell_type": "code",
   "execution_count": 14,
   "id": "9a6a01a0-75eb-4222-8139-edf4e5db83f1",
   "metadata": {},
   "outputs": [
    {
     "name": "stdin",
     "output_type": "stream",
     "text": [
      "What info do you want of student  location\n"
     ]
    },
    {
     "name": "stdout",
     "output_type": "stream",
     "text": [
      "'location', <class 'KeyError'>\n"
     ]
    }
   ],
   "source": [
    "#KeyError\n",
    "student_info = {'name': 'manish vishwakarma',\n",
    "                'age': 21,\n",
    "                'phone_no': 95739574385}\n",
    "user_input = input('What info do you want of student ')\n",
    "\n",
    "try:\n",
    "    print(f'{user_input} is {student_info[user_input]}')\n",
    "except LookupError as e:\n",
    "    print(f'{e}, {e.__class__}')"
   ]
  },
  {
   "cell_type": "code",
   "execution_count": 5,
   "id": "99d90f77-1708-4c9b-9ab0-d3ed618101ae",
   "metadata": {},
   "outputs": [
    {
     "name": "stdout",
     "output_type": "stream",
     "text": [
      "list index out of range, <class 'IndexError'>\n"
     ]
    }
   ],
   "source": [
    "#IndexError\n",
    "x = [1, 2, 3, 4]\n",
    "try:\n",
    "    print(x[6])\n",
    "except LookupError as e:\n",
    "    print(f\"{e}, {e.__class__}\")"
   ]
  },
  {
   "cell_type": "markdown",
   "id": "b7b4cba0-4444-4ec1-b360-979789e1d9b7",
   "metadata": {},
   "source": [
    "Q5. Explain ImportError. What is ModuleNotFoundError?"
   ]
  },
  {
   "cell_type": "code",
   "execution_count": 6,
   "id": "351ec336-f589-4bb8-a247-e3b7731f1bf5",
   "metadata": {},
   "outputs": [
    {
     "name": "stdout",
     "output_type": "stream",
     "text": [
      "Import Error : No module named 'adadnnfja'\n"
     ]
    }
   ],
   "source": [
    "try:\n",
    "    import adadnnfja\n",
    "except ImportError as e:\n",
    "    print(f\"Import Error : {e}\")"
   ]
  },
  {
   "cell_type": "code",
   "execution_count": 7,
   "id": "29e21337-0713-495e-85a7-3edc7e666a10",
   "metadata": {},
   "outputs": [
    {
     "name": "stdout",
     "output_type": "stream",
     "text": [
      "Module Not Found Error : No module named 'dani'\n"
     ]
    }
   ],
   "source": [
    "try:\n",
    "    import dani\n",
    "except ModuleNotFoundError as e:\n",
    "    print(f\"Module Not Found Error : {e}\")"
   ]
  },
  {
   "cell_type": "markdown",
   "id": "7feb7a8b-8edf-4f4a-bc2d-69dd1081b03e",
   "metadata": {},
   "source": [
    "#### Q6. List down some best practices for exception handling in python.\n"
   ]
  },
  {
   "cell_type": "markdown",
   "id": "47391311-540c-4f5b-b298-c5094fac4d8c",
   "metadata": {},
   "source": [
    "Always use a specific Exception,\n",
    "Print a valid message,\n",
    "Always try to log,\n",
    "Always try to avoid multiple exception handling,\n",
    "prepare a proper documentation<>"
   ]
  },
  {
   "cell_type": "code",
   "execution_count": 8,
   "id": "5e556de5-9e5f-4d87-9b9d-f2f0bc8288a1",
   "metadata": {},
   "outputs": [
    {
     "name": "stdout",
     "output_type": "stream",
     "text": [
      "division by zero\n"
     ]
    }
   ],
   "source": [
    "#use always specific exception\n",
    "try:\n",
    "    10/0\n",
    "except Exception as e:\n",
    "    print(e)"
   ]
  },
  {
   "cell_type": "code",
   "execution_count": 9,
   "id": "006298bb-0946-4e16-bbeb-737259bf72eb",
   "metadata": {},
   "outputs": [
    {
     "name": "stdout",
     "output_type": "stream",
     "text": [
      "division by zero\n"
     ]
    }
   ],
   "source": [
    "try:\n",
    "    10/0\n",
    "except ZeroDivisionError as e:\n",
    "    print(e)"
   ]
  },
  {
   "cell_type": "code",
   "execution_count": 10,
   "id": "34302ef9-479e-4146-8de8-3e388d1d3710",
   "metadata": {},
   "outputs": [
    {
     "name": "stdout",
     "output_type": "stream",
     "text": [
      "This is my Zero division error that i am handling division by zero\n"
     ]
    }
   ],
   "source": [
    "#print always a valid message\n",
    "\n",
    "try:\n",
    "    10/0\n",
    "except ZeroDivisionError as e:\n",
    "    print(\"This is my Zero division error that i am handling\",e)"
   ]
  },
  {
   "cell_type": "code",
   "execution_count": 11,
   "id": "64a82478-10f2-422f-8ec9-393e6b265bd6",
   "metadata": {},
   "outputs": [],
   "source": [
    "#always try to log\n",
    "\n",
    "import logging\n",
    "logging.basicConfig(filename = \"error.log\",level=logging.ERROR ,format = '%(asctime)s %(name)s %(levelname)s %(message)s' )\n",
    "\n",
    "try:\n",
    "    10/0\n",
    "except ZeroDivisionError as e:\n",
    "    logging.error(\"This is my Zero division error that i am handling {} \".format(e))"
   ]
  },
  {
   "cell_type": "code",
   "execution_count": 12,
   "id": "368d32e1-6409-4144-8315-f79a2d3f7d0d",
   "metadata": {},
   "outputs": [],
   "source": [
    "#always try to avoid multiple exception handling\n",
    "\n",
    "import logging\n",
    "logging.basicConfig(filename = \"error.log\",level=logging.ERROR ,format = '%(asctime)s %(name)s %(levelname)s %(message)s' )\n",
    "\n",
    "try:\n",
    "    10/0\n",
    "    \n",
    "except FileNotFoundError as e:\n",
    "    logging.error(\"This is my File not found error that i am handling {} \".format(e))\n",
    "\n",
    "except AttributeError as e:\n",
    "    logging.error(\"This is my attribute error that i am handling {} \".format(e))\n",
    "    \n",
    "except ZeroDivisionError as e:\n",
    "    logging.error(\"This is my Zero division error that i am handling {} \".format(e))"
   ]
  },
  {
   "cell_type": "code",
   "execution_count": 13,
   "id": "562615b6-4825-4b70-a640-6684340d2b7e",
   "metadata": {},
   "outputs": [],
   "source": [
    "#cleanup all the resources\n",
    "\n",
    "try:\n",
    "    with open(\"test.txt\",'w') as f:\n",
    "        f.write(\"this is my messages to file\")\n",
    "except FileNotFoundError as e:\n",
    "    logging.error(\"This is my File not found error that i am handling {} \".format(e))\n",
    "finally:\n",
    "    f.close()"
   ]
  },
  {
   "cell_type": "code",
   "execution_count": null,
   "id": "c551c991-946e-4ec0-bc7a-402b35aedaef",
   "metadata": {},
   "outputs": [],
   "source": []
  }
 ],
 "metadata": {
  "kernelspec": {
   "display_name": "Python 3 (ipykernel)",
   "language": "python",
   "name": "python3"
  },
  "language_info": {
   "codemirror_mode": {
    "name": "ipython",
    "version": 3
   },
   "file_extension": ".py",
   "mimetype": "text/x-python",
   "name": "python",
   "nbconvert_exporter": "python",
   "pygments_lexer": "ipython3",
   "version": "3.11.5"
  }
 },
 "nbformat": 4,
 "nbformat_minor": 5
}
